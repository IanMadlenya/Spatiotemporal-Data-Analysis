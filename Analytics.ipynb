{
 "cells": [
  {
   "cell_type": "markdown",
   "metadata": {},
   "source": [
    "<img src=\"ilustrations/analytics.gif\" alt=\"Instagram\" style=\"width: 300px;\"/>\n",
    "# Data Analytics\n",
    "Kassio machado\n",
    "\n",
    "**Road Map, Questions and Directions**\n",
    "- Study the variations of geographic preference of city inhabitants. How it varies according to weather variables, such as **temperature and occurrences of rain and snow**.\n",
    "- Create a model to classify the sets of places;\n",
    "- Study the transitions betweens places, if there is effect of weather on them."
   ]
  },
  {
   "cell_type": "code",
   "execution_count": 1,
   "metadata": {
    "collapsed": false
   },
   "outputs": [],
   "source": [
    "%load_ext autoreload\n",
    "%autoreload 2"
   ]
  },
  {
   "cell_type": "code",
   "execution_count": 2,
   "metadata": {
    "collapsed": true
   },
   "outputs": [],
   "source": [
    "import csv\n",
    "import math\n",
    "import json\n",
    "import numpy\n",
    "import colorama\n",
    "import datetime\n",
    "from tqdm import tqdm\n",
    "import matplotlib.pyplot as plt\n",
    "plt.style.use('ggplot')\n",
    "%matplotlib inline"
   ]
  },
  {
   "cell_type": "code",
   "execution_count": 3,
   "metadata": {
    "collapsed": false
   },
   "outputs": [
    {
     "name": "stdout",
     "output_type": "stream",
     "text": [
      "\u001b[33m\u001b[41m Error Sample Message \u001b[39m\u001b[49m\n",
      "\u001b[37m\u001b[44m Information Sample Message \u001b[39m\u001b[49m\n",
      "\u001b[37m\u001b[42m Information Sample Message \u001b[39m\u001b[49m\n"
     ]
    }
   ],
   "source": [
    "RESET = colorama.Fore.RESET + colorama.Back.RESET\n",
    "RED = colorama.Fore.YELLOW + colorama.Back.RED\n",
    "BLUE = colorama.Fore.WHITE + colorama.Back.BLUE\n",
    "GREEN = colorama.Fore.WHITE + colorama.Back.GREEN\n",
    "print RED, 'Error Sample Message', RESET\n",
    "print BLUE, 'Information Sample Message', RESET\n",
    "print GREEN, 'Information Sample Message', RESET"
   ]
  },
  {
   "cell_type": "markdown",
   "metadata": {},
   "source": [
    "# City"
   ]
  },
  {
   "cell_type": "code",
   "execution_count": 4,
   "metadata": {
    "collapsed": true
   },
   "outputs": [],
   "source": [
    "cities = ['New_York', 'Chicago', 'Istanbul']\n",
    "cities += ['London', 'Paris', 'Sao_Paulo']\n",
    "cities += ['Sydney', 'Tokyo']"
   ]
  },
  {
   "cell_type": "code",
   "execution_count": 5,
   "metadata": {
    "collapsed": false
   },
   "outputs": [
    {
     "name": "stdout",
     "output_type": "stream",
     "text": [
      "\u001b[37m\u001b[42m Paris \u001b[39m\u001b[49m\n"
     ]
    }
   ],
   "source": [
    "city = 'Paris'\n",
    "print GREEN, city, RESET"
   ]
  },
  {
   "cell_type": "markdown",
   "metadata": {},
   "source": [
    "<img src=\"ilustrations/weather-icon.gif\" alt=\"Instagram\" style=\"width: 300px;\"/>\n",
    "# Weather\n",
    "Source: Weather Underground - https://www.wunderground.com/weather/api/"
   ]
  },
  {
   "cell_type": "code",
   "execution_count": 6,
   "metadata": {
    "collapsed": true
   },
   "outputs": [],
   "source": [
    "weatherDir = 'data/weather/'\n",
    "weatherFiles = {'New_York':'uweather-new_york.json', \n",
    "                'Chicago':'uweather-chicago.json', \n",
    "                'London':'uweather-london.json', \n",
    "                'Paris':'uweather-paris.json',\n",
    "                'Sao_Paulo':'uweather-sao_paulo.json', \n",
    "                'Sydney':'uweather-sydney.json',\n",
    "                'Tokyo':'uweather-tokyo.json',\n",
    "               'Istanbul':'uweather-istanbul.json'}"
   ]
  },
  {
   "cell_type": "code",
   "execution_count": 7,
   "metadata": {
    "collapsed": true
   },
   "outputs": [],
   "source": [
    "def loadWeatherData(filename, dateKeyPattern='%y-%m-%d'):\n",
    "    \"\"\"\n",
    "        Loads the weather data from JSON files imported from\n",
    "        Weather Underground Source. It returns a dictionary of \n",
    "        indexed by dates (dateKeyPattern parameter) and \n",
    "        items are tuples of temperature (min, mean, max).\n",
    "    \"\"\"\n",
    "\n",
    "    print BLUE, 'Loading', filename, RESET\n",
    "    originalPattern = '%B %d, %Y'\n",
    "    invalidSamples = 0\n",
    "    weatherData = dict()\n",
    "    inputfile = open(filename, 'r')\n",
    "    for line in tqdm(inputfile, disable=True):\n",
    "        data = json.loads(line.replace('\\n', ''))\n",
    "        dt = data['history']['date']['pretty']\n",
    "        try:\n",
    "            dt = datetime.datetime.strptime(dt, originalPattern)\n",
    "        except ValueError:\n",
    "            continue\n",
    "        summary = data['history']['dailysummary'][0]\n",
    "        try:\n",
    "            tmin = float(summary['mintempm'])\n",
    "            tmax = float(summary['maxtempm'])\n",
    "            tmean = float(summary['meantempm'])\n",
    "        except ValueError:\n",
    "            invalidSamples += 1\n",
    "            continue\n",
    "        dtkey = dt.strftime(dateKeyPattern)\n",
    "        weatherData[dtkey] = (tmin, tmean, tmax)\n",
    "    if invalidSamples > 0:\n",
    "        print RED, invalidSamples, 'Invalid samples', RESET\n",
    "    print GREEN, 'Done!', RESET\n",
    "    return weatherData"
   ]
  },
  {
   "cell_type": "code",
   "execution_count": 8,
   "metadata": {
    "collapsed": true
   },
   "outputs": [],
   "source": [
    "def plotWeatherTimeline(dataWeather, city, filename=None,\n",
    "                        dateKeyPattern='%y-%m-%d'):\n",
    "    \"\"\"\n",
    "        Plots the timeline of weather available on dataset files\n",
    "        - showing min, mean and max temperatures daily.\n",
    "    \"\"\"\n",
    "    timeline = sorted(dataWeather.keys())\n",
    "    timeTicks = [datetime.datetime.strptime(t, dateKeyPattern) for t in timeline]\n",
    "    plt.figure(figsize=(15,4))\n",
    "    data = [dataWeather[t][1] for t in timeline]\n",
    "    plt.plot(timeTicks, data, label='Mean', color='black', alpha=0.5)\n",
    "    data = [dataWeather[t][0] for t in timeline]\n",
    "    plt.plot(timeTicks, data, label='Min', color='blue', alpha=0.5)\n",
    "    data = [dataWeather[t][2] for t in timeline]\n",
    "    plt.plot(timeTicks, data, label='Max', color='red', alpha=0.5)\n",
    "    plt.ylabel('Temperature ' + city, fontsize=15)\n",
    "    plt.xticks(rotation='vertical', fontsize=15)\n",
    "    plt.yticks(fontsize=15)\n",
    "    plt.legend()\n",
    "    plt.tight_layout()\n",
    "    if filename != None:\n",
    "        plt.savefig(filename, dpi=100)\n",
    "    plt.show()\n",
    "    return"
   ]
  },
  {
   "cell_type": "code",
   "execution_count": 9,
   "metadata": {
    "collapsed": true
   },
   "outputs": [],
   "source": [
    "def plotWeatherDetails(dataWeather, city, scale=5, saveFig=False):\n",
    "    \"\"\"\n",
    "        Plots the histogram of temperatures rounded\n",
    "        according to the scale paramenter. Additionally,\n",
    "        it plots the histogram of daily difference of \n",
    "        min and max temperature registered daily and\n",
    "        returns the details of temperature in dict.\n",
    "    \"\"\"\n",
    "    details = dict()\n",
    "    timeline = sorted(dataWeather.keys())\n",
    "    dataRaw = [dataWeather[t][1] for t in timeline]\n",
    "    data = [int(math.ceil(t/scale)*scale) for t in dataRaw]\n",
    "    details['min'] = min(dataRaw)\n",
    "    details['max'] = max(dataRaw)\n",
    "    details['mean'] = numpy.mean(dataRaw)\n",
    "    details['std'] = numpy.std(dataRaw)\n",
    "    print GREEN + 'Temperatures (based on daily mean):'\n",
    "    print 'Min:', details['min'], 'Max:', details['max']\n",
    "    print 'Mean:', details['max'], 'STD:', details['std'], RESET\n",
    "    \n",
    "    plt.figure(figsize=(15,4))\n",
    "    pdf, edges, = numpy.histogram(data, bins=range(-30, 45, scale))\n",
    "    plt.bar(edges[:-1], pdf, width=scale - 0.1, alpha=0.8, label=city)\n",
    "    plt.ylabel('Frequency', fontsize=14)\n",
    "    plt.xlabel('Temperature', fontsize=14)\n",
    "    plt.xticks(edges[:-1], fontsize=14)\n",
    "    plt.yticks(fontsize=14)\n",
    "    plt.legend(fontsize=14)\n",
    "    plt.tight_layout()\n",
    "    if saveFig:\n",
    "        filename = 'results/weather-histogram-temperatures-'\n",
    "        filename += city.upper() + '.png'\n",
    "        plt.savefig(filename, dpi=100)\n",
    "    plt.show()\n",
    "    plt.clf()\n",
    "    \n",
    "    plt.figure(figsize=(15,4))\n",
    "    data = [dataWeather[t][2] - dataWeather[t][1] for t in timeline]\n",
    "    pdf, edges, = numpy.histogram(data, bins=range(0, 10, 1))\n",
    "    plt.bar(edges[:-1], pdf, width=0.9, alpha=0.8, label=city, color='gray')\n",
    "    meanDiff = numpy.mean(data)\n",
    "    stdDiff = numpy.std(data)\n",
    "    details['mean-diff'] = meanDiff\n",
    "    details['std-diff'] = stdDiff\n",
    "    plt.axvline(details['mean-diff'], color='black', alpha=0.7)\n",
    "    plt.axvline(details['mean-diff'] + details['std-diff'], color='blue', alpha=0.7)\n",
    "    plt.axvline(details['mean-diff'] - details['std-diff'], color='red', alpha=0.7)\n",
    "    plt.title('Histogram of Daily Difference', fontsize=14)\n",
    "    plt.ylabel('Frequency', fontsize=14)\n",
    "    plt.xlabel('Temperature Difference (Daily)', fontsize=14)\n",
    "    plt.xticks(fontsize=14)\n",
    "    plt.yticks(fontsize=14)\n",
    "    plt.legend(fontsize=14)\n",
    "    plt.tight_layout()\n",
    "    if saveFig:\n",
    "        filename = 'results/weather-histogram-differences-' \n",
    "        filename += city.upper() + '.png'\n",
    "        plt.savefig(filename, dpi=100)\n",
    "    plt.show()\n",
    "    plt.clf()\n",
    "    print GREEN, 'Daily Min-Max Variance:', details['mean-diff'], details['std-diff'], RESET\n",
    "    return details"
   ]
  },
  {
   "cell_type": "code",
   "execution_count": null,
   "metadata": {
    "collapsed": false,
    "scrolled": false
   },
   "outputs": [],
   "source": [
    "dataWeather = loadWeatherData(weatherDir + weatherFiles[city])"
   ]
  },
  {
   "cell_type": "code",
   "execution_count": null,
   "metadata": {
    "collapsed": false
   },
   "outputs": [],
   "source": [
    "filename = 'figures/weather-timeline-' + city.upper() + '.png'\n",
    "plotWeatherTimeline(dataWeather, city, filename)"
   ]
  },
  {
   "cell_type": "code",
   "execution_count": null,
   "metadata": {
    "collapsed": false
   },
   "outputs": [],
   "source": [
    "weatherDetails = plotWeatherDetails(dataWeather, city, scale=3)"
   ]
  },
  {
   "cell_type": "markdown",
   "metadata": {},
   "source": [
    "## Weather - Batch Execution\n",
    "The cell bellow execute bunches of function/analysis for each target city "
   ]
  },
  {
   "cell_type": "code",
   "execution_count": null,
   "metadata": {
    "collapsed": true
   },
   "outputs": [],
   "source": [
    "# Group all plots and results realted to weather.\n",
    "weatherDetailsFile = open('results/weather-details.json', 'w')\n",
    "for c in cities:\n",
    "    dataWeather = loadWeatherData(weatherDir + weatherFiles[c])\n",
    "    filename = 'results/weather-timeline-' + c.upper() + '.png'\n",
    "    plotWeatherTimeline(dataWeather, c, filename, saveFig=True)\n",
    "    weatherDetails = plotWeatherDetails(dataWeather, c, scale=3, saveFig=True)\n",
    "    weatherDetails['city'] = c\n",
    "    weatherDetailsFile.write(str(weatherDetails) + '\\n')\n",
    "weatherDetailsFile.close()    "
   ]
  },
  {
   "cell_type": "markdown",
   "metadata": {},
   "source": [
    "## Weather - Dev Area\n",
    "The codes in the cells bellow are analysis in development and not finished yet."
   ]
  },
  {
   "cell_type": "code",
   "execution_count": 8,
   "metadata": {
    "collapsed": false,
    "scrolled": true
   },
   "outputs": [
    {
     "name": "stdout",
     "output_type": "stream",
     "text": [
      "\u001b[37m\u001b[42m Maximun Difference of MAX Temp. among 2 consecutive days: 4.26138800339 \u001b[39m\u001b[49m\n"
     ]
    }
   ],
   "source": [
    "def loadSevereTemperatures(dataWeather, mode='mean'):\n",
    "    \"\"\"\n",
    "        Search for differences of temperature that\n",
    "        exceed the expected among two consecutive days.\n",
    "        The mode parameter define if the functions evaluates\n",
    "        the mean or max temperature of the day - requires the\n",
    "        weather dataset previously loaded.\n",
    "    \"\"\"\n",
    "    if mode == 'mean': \n",
    "        index = 1\n",
    "    else:\n",
    "        mode = 'max'\n",
    "        index = 2\n",
    "    timeline = sorted(dataWeather)\n",
    "    diffs = list()\n",
    "    for d1, d2 in zip(timeline, timeline[1:]):\n",
    "        d = sorted([dataWeather[d1][index], dataWeather[d2][index]])\n",
    "        dif = d[1] - d[0]\n",
    "        data = (dif, d1, dataWeather[d1][index], d2, dataWeather[d2][index])\n",
    "        diffs.append(data)\n",
    "\n",
    "    data = [abs(d[0]) for d in diffs]\n",
    "    stdDif = numpy.std(data)\n",
    "    meanDif = numpy.mean(data)\n",
    "    maxDiff = meanDif + stdDif\n",
    "    print GREEN, 'Maximun Difference of', mode.upper(), 'Temp. among 2 consecutive days:', maxDiff, RESET\n",
    "\n",
    "    diffs = sorted(diffs, key=lambda k:abs(k[0]), reverse=True)\n",
    "    data = list()\n",
    "    for dif in diffs:\n",
    "        d = abs(dif[0])\n",
    "        if d > maxDiff:\n",
    "            data.append(dif)\n",
    "    return data\n",
    "\n",
    "dataMaxTemperatures = loadSevereTemperatures(dataWeather, 'max')"
   ]
  },
  {
   "cell_type": "markdown",
   "metadata": {},
   "source": [
    "<img src=\"ilustrations/instagram-icon.gif\" alt=\"Instagram\" style=\"width: 300px;\"/>\n",
    "# Social Media Data\n",
    "Source: Instagram and Twitter"
   ]
  },
  {
   "cell_type": "code",
   "execution_count": 43,
   "metadata": {
    "collapsed": true
   },
   "outputs": [],
   "source": [
    "def loadInstagramFilenames(city):\n",
    "    \"\"\"\n",
    "        Create the array of string of the filenames\n",
    "        of the datasets.\n",
    "    \"\"\"\n",
    "    filenames = list()\n",
    "    baseFolder = 'data/'\n",
    "    sufix = '-tweets-instagram-url-' + city.upper() + '.csv'\n",
    "    dates = ['2016-06-16', '2016-07-11', '2016-08-05', \n",
    "                '2016-08-18', '2016-09-12', '2016-10-05', \n",
    "                '2016-11-07', '2016-12-04', '2016-12-14', \n",
    "                '2017-01-09', '2017-02-15', '2017-03-17',\n",
    "                '2017-03-19', '2017-04-17', '2017-05-15']\n",
    "    for d in dates:\n",
    "        fname = baseFolder + d + sufix\n",
    "        filenames.append(fname)\n",
    "    return filenames\n",
    "instagramFiles = loadInstagramFilenames(city)"
   ]
  },
  {
   "cell_type": "code",
   "execution_count": 44,
   "metadata": {
    "collapsed": false,
    "scrolled": true
   },
   "outputs": [
    {
     "name": "stdout",
     "output_type": "stream",
     "text": [
      "\u001b[37m\u001b[44m Load: 2016-06-16-tweets-instagram-url-PARIS-resolved.csv 53333 Samples \u001b[39m\u001b[49m\n",
      "\u001b[37m\u001b[44m Load: 2016-07-11-tweets-instagram-url-PARIS-resolved.csv 92320 Samples \u001b[39m\u001b[49m\n",
      "\u001b[37m\u001b[44m Load: 2016-08-05-tweets-instagram-url-PARIS-resolved.csv 105758 Samples \u001b[39m\u001b[49m\n",
      "\u001b[37m\u001b[44m Load: 2016-08-18-tweets-instagram-url-PARIS-resolved.csv 143020 Samples \u001b[39m\u001b[49m\n",
      "\u001b[37m\u001b[44m Load: 2016-09-12-tweets-instagram-url-PARIS-resolved.csv 171138 Samples \u001b[39m\u001b[49m\n",
      "\u001b[37m\u001b[44m Load: 2016-10-05-tweets-instagram-url-PARIS-resolved.csv 184005 Samples \u001b[39m\u001b[49m\n",
      "\u001b[37m\u001b[44m Load: 2016-11-07-tweets-instagram-url-PARIS-resolved.csv 211658 Samples \u001b[39m\u001b[49m\n",
      "\u001b[37m\u001b[44m Load: 2016-12-04-tweets-instagram-url-PARIS-resolved.csv 223074 Samples \u001b[39m\u001b[49m\n",
      "\u001b[37m\u001b[44m Load: 2016-12-14-tweets-instagram-url-PARIS-resolved.csv 261704 Samples \u001b[39m\u001b[49m\n",
      "\u001b[37m\u001b[44m Load: 2017-01-09-tweets-instagram-url-PARIS-resolved.csv 319605 Samples \u001b[39m\u001b[49m\n",
      "\u001b[37m\u001b[44m Load: 2017-02-15-tweets-instagram-url-PARIS-resolved.csv 375613 Samples \u001b[39m\u001b[49m\n",
      "\u001b[37m\u001b[44m Load: 2017-03-17-tweets-instagram-url-PARIS-resolved.csv 429854 Samples \u001b[39m\u001b[49m\n",
      "\u001b[37m\u001b[44m Load: 2017-03-19-tweets-instagram-url-PARIS-resolved.csv 429865 Samples \u001b[39m\u001b[49m\n",
      "\u001b[37m\u001b[44m Load: 2017-04-17-tweets-instagram-url-PARIS-resolved.csv 474990 Samples \u001b[39m\u001b[49m\n",
      "\u001b[37m\u001b[44m Load: 2017-05-15-tweets-instagram-url-PARIS-resolved.csv 533135 Samples \u001b[39m\u001b[49m\n",
      "\u001b[37m\u001b[42m Done! Total Samples: 533135 \u001b[39m\u001b[49m\n"
     ]
    }
   ],
   "source": [
    "def loadInstagramURLs(inputfiles, completeName=True):\n",
    "    \"\"\"\n",
    "        Loads the files of resolved urls which indicate the place\n",
    "        where the photos were taken. It returns a dict where the keys\n",
    "        are the id of tweet and items are the urls of places, \n",
    "        without the url base.\n",
    "        The CSV files must be formated as following:\n",
    "        id_sample, url_sample, url_place, place_name, user_name\n",
    "        OBS: the url_place field can be 'not-available' in case \n",
    "        of the sample not avaible online anymore.\n",
    "    \"\"\"\n",
    "    urlBase = 'https://www.instagram.com/explore/locations/'    \n",
    "    dictSamples = dict()\n",
    "    for filename in inputfiles:\n",
    "        if completeName:\n",
    "            filename = filename.replace('.csv', '-resolved.csv')\n",
    "        f = open(filename, 'r')\n",
    "        nlines = 0\n",
    "        for i in f:\n",
    "            nlines += 1\n",
    "        f.seek(0)\n",
    "        reader = csv.reader(f)\n",
    "        for data in tqdm(reader, total=nlines, disable=True):\n",
    "            if data[2] != 'not-available':\n",
    "                urlPlace = data[2].replace(urlBase, '')\n",
    "                placeName = data[3]\n",
    "                dictSamples[data[0]] = (urlPlace, placeName)\n",
    "        alias = filename.split('/')[-1]\n",
    "        print BLUE, 'Load:', alias, len(dictSamples), 'Samples', RESET\n",
    "    print GREEN, 'Done! Total Samples:', len(dictSamples), RESET\n",
    "    return dictSamples\n",
    "\n",
    "dataInstagramURL = loadInstagramURLs(instagramFiles)"
   ]
  },
  {
   "cell_type": "code",
   "execution_count": 45,
   "metadata": {
    "collapsed": false,
    "scrolled": false
   },
   "outputs": [
    {
     "name": "stdout",
     "output_type": "stream",
     "text": [
      "\u001b[37m\u001b[44m Load: 2016-06-16-tweets-instagram-url-PARIS.csv \u001b[39m\u001b[49m\n",
      "\u001b[37m\u001b[44m Load: 2016-07-11-tweets-instagram-url-PARIS.csv \u001b[39m\u001b[49m\n",
      "\u001b[37m\u001b[44m Load: 2016-08-05-tweets-instagram-url-PARIS.csv \u001b[39m\u001b[49m\n",
      "\u001b[37m\u001b[44m Load: 2016-08-18-tweets-instagram-url-PARIS.csv \u001b[39m\u001b[49m\n",
      "\u001b[37m\u001b[44m Load: 2016-09-12-tweets-instagram-url-PARIS.csv \u001b[39m\u001b[49m\n",
      "\u001b[37m\u001b[44m Load: 2016-10-05-tweets-instagram-url-PARIS.csv \u001b[39m\u001b[49m\n",
      "\u001b[37m\u001b[44m Load: 2016-11-07-tweets-instagram-url-PARIS.csv \u001b[39m\u001b[49m\n",
      "\u001b[37m\u001b[44m Load: 2016-12-04-tweets-instagram-url-PARIS.csv \u001b[39m\u001b[49m\n",
      "\u001b[37m\u001b[44m Load: 2016-12-14-tweets-instagram-url-PARIS.csv \u001b[39m\u001b[49m\n",
      "\u001b[37m\u001b[44m Load: 2017-01-09-tweets-instagram-url-PARIS.csv \u001b[39m\u001b[49m\n",
      "\u001b[37m\u001b[44m Load: 2017-02-15-tweets-instagram-url-PARIS.csv \u001b[39m\u001b[49m\n",
      "\u001b[37m\u001b[44m Load: 2017-03-17-tweets-instagram-url-PARIS.csv \u001b[39m\u001b[49m\n",
      "\u001b[37m\u001b[44m Load: 2017-03-19-tweets-instagram-url-PARIS.csv \u001b[39m\u001b[49m\n",
      "\u001b[37m\u001b[44m Load: 2017-04-17-tweets-instagram-url-PARIS.csv \u001b[39m\u001b[49m\n",
      "\u001b[37m\u001b[44m Load: 2017-05-15-tweets-instagram-url-PARIS.csv \u001b[39m\u001b[49m\n",
      "\u001b[37m\u001b[42m Done! \u001b[39m\u001b[49m\n"
     ]
    }
   ],
   "source": [
    "def mergeInstagramData(inputfiles, dataInstagramURL):\n",
    "    \"\"\"\n",
    "        Loads the original dataset files of samples' URLs and \n",
    "        combine the data with resolved URLs csv files. \n",
    "        Requires the preloaded data from resolved URLS.\n",
    "        The CSV files must be formated as following:\n",
    "        id_sample, id_user, ISO Alpha-2, url_sample, twitter_url_place, twitter_place_name, UTC Date & Time\n",
    "    \"\"\"\n",
    "    dataInstagram = dict()\n",
    "    for filename in inputfiles:\n",
    "        alias = filename.split('/')[-1]\n",
    "        print BLUE, 'Load:', alias, RESET\n",
    "        f = open(filename, 'r')\n",
    "        nlines = 0\n",
    "        for i in f:\n",
    "            nlines += 1\n",
    "        f.seek(0)\n",
    "        reader = csv.reader(f)\n",
    "        for data in tqdm(reader, total=nlines, disable=True):\n",
    "            try:\n",
    "                urlPlace, placeName = dataInstagramURL[data[0]]\n",
    "            except KeyError:\n",
    "                # KeyError in case of sample not available or not resolved\n",
    "                continue\n",
    "            except ValueError:\n",
    "                # ValueError in case of duplicated sample lines\n",
    "                continue\n",
    "            try:\n",
    "                dataInstagram[data[0]] = (data[6], urlPlace, placeName, data[1])\n",
    "                # (dateTime, urlPlace, placeName, idUser)\n",
    "            except IndexError:\n",
    "                print RED, 'CORRUPTED LINE!', RESET\n",
    "                print data\n",
    "                return\n",
    "    print GREEN, 'Done!', RESET\n",
    "    return dataInstagram\n",
    "\n",
    "dataInstagram = mergeInstagramData(instagramFiles, dataInstagramURL)"
   ]
  },
  {
   "cell_type": "code",
   "execution_count": 46,
   "metadata": {
    "collapsed": false
   },
   "outputs": [
    {
     "data": {
      "image/png": "[encoded data removed]",
      "text/plain": [
       "<matplotlib.figure.Figure at 0x110a1db90>"
      ]
     },
     "metadata": {},
     "output_type": "display_data"
    }
   ],
   "source": [
    "def plotInstagramTimeline(dataInstagram, city, filename=None):\n",
    "    data = dict()\n",
    "    for i in dataInstagram:\n",
    "        sample = dataInstagram[i]\n",
    "        dt = sample[0].split(' ')[0]\n",
    "        try:\n",
    "            data[dt].add(i)\n",
    "        except KeyError:\n",
    "            data[dt] = {i}\n",
    "    timeline = sorted(data)\n",
    "    datapoints = [len(data[i]) for i in timeline]\n",
    "    mean = numpy.mean(datapoints)\n",
    "    std = numpy.std(datapoints)\n",
    "    timeline = [datetime.datetime.strptime(t, '%y-%m-%d') for t in timeline]\n",
    "    plt.figure(figsize=(15,4))\n",
    "    plt.scatter(timeline, datapoints, alpha=0.7, label=city)\n",
    "    plt.axhline(mean, alpha=0.5, color='blue', label='mean')\n",
    "    plt.axhline(mean + std, alpha=0.5, color='black', label='std')\n",
    "    plt.axhline(mean - std, alpha=0.5, color='black')\n",
    "    plt.ylabel('# of Samples', fontsize=15)\n",
    "    plt.xticks(rotation='vertical', fontsize=15)\n",
    "    plt.yticks(fontsize=15)\n",
    "    plt.legend()\n",
    "    plt.tight_layout()\n",
    "    if filename != None:\n",
    "        plt.savefig(filename, dpi=100)\n",
    "    plt.show()\n",
    "    return\n",
    "\n",
    "plotInstagramTimeline(dataInstagram, city)  "
   ]
  },
  {
   "cell_type": "code",
   "execution_count": 52,
   "metadata": {
    "collapsed": false
   },
   "outputs": [
    {
     "data": {
      "text/plain": [
       "[('16-12-07 23:32:04',\n",
       "  '258124127623826/',\n",
       "  '\\xe6\\xb8\\x8b\\xe8\\xb0\\xb7\\xe3\\x83\\x9b\\xe3\\x83\\xab\\xe3\\x83\\xa2\\xe3\\x83\\xb3\\xe7\\x84\\xbc\\xe3\\x81\\x8d\\xe3\\x81\\x84\\xe3\\x81\\x8f\\xe3\\x81\\xa9\\xe3\\x82\\x93',\n",
       "  '120937808'),\n",
       " ('17-06-01 08:54:27',\n",
       "  '253730125/yamato-kanagawa/',\n",
       "  'Yamato; Kanagawa',\n",
       "  '525931772'),\n",
       " ('16-08-28 13:57:23', '243677069/showboat1993/', 'ShowBoat1993', '210098180'),\n",
       " ('16-08-06 09:15:35', '360413411/studio-swag/', 'Studio SWAG', '616795284'),\n",
       " ('17-02-22 23:10:45',\n",
       "  '242784848/fukushimaya-tasting-market/',\n",
       "  'Fukushimaya Tasting Market',\n",
       "  '3883501')]"
      ]
     },
     "execution_count": 52,
     "metadata": {},
     "output_type": "execute_result"
    }
   ],
   "source": [
    "dataInstagram.values()[:5]"
   ]
  },
  {
   "cell_type": "code",
   "execution_count": null,
   "metadata": {
    "collapsed": false,
    "scrolled": false
   },
   "outputs": [],
   "source": [
    "for c in cities:\n",
    "    # dataWeather = loadWeatherData(weatherDir + weatherFiles[c])\n",
    "    instagramFiles = loadInstagramFilenames(c)\n",
    "    dataInstagramURL = loadInstagramURLs(instagramFiles)\n",
    "    dataInstagram = mergeInstagramData(instagramFiles, dataInstagramURL)\n",
    "    # filename = 'results/social-timeline-' + c.upper() + '.png'\n",
    "    # plotInstagramTimeline(dataInstagram, c, filename)\n",
    "    \n",
    "weatherDetailsFile.close()    "
   ]
  },
  {
   "cell_type": "markdown",
   "metadata": {},
   "source": [
    "# Analytics"
   ]
  },
  {
   "cell_type": "code",
   "execution_count": 17,
   "metadata": {
    "collapsed": false
   },
   "outputs": [
    {
     "name": "stderr",
     "output_type": "stream",
     "text": [
      "Grouping: 100%|██████████| 533135/533135 [00:01<00:00, 450990.65it/s]\n"
     ]
    }
   ],
   "source": [
    "def groupSamplesSpatioTemporal(dataInstagram, dateKeyFormat='%y-%m-%d'):\n",
    "    \"\"\"\n",
    "        Loads the samples from dataInstagram and group them\n",
    "        according to the place-url and dateKeyFormat.\n",
    "        In other words: it returns a dict indexed by date \n",
    "        and followed by places urls, where the items represent\n",
    "        the ammount of samples.\n",
    "    \"\"\"\n",
    "    dataTimeline = dict()\n",
    "    for i in tqdm(dataInstagram, 'Grouping'):\n",
    "        sample = dataInstagram[i]\n",
    "        dateKey = sample[0].split(' ')[0]\n",
    "        placeURL = sample[1]\n",
    "        try:\n",
    "            dataTimeline[dateKey][placeURL] += 1\n",
    "        except KeyError:\n",
    "            if dateKey not in dataTimeline:\n",
    "                dataTimeline[dateKey] = dict()\n",
    "            dataTimeline[dateKey][placeURL] = 1\n",
    "    return dataTimeline\n",
    "\n",
    "dataSpatiotemporal = groupSamplesSpatioTemporal(dataInstagram)"
   ]
  },
  {
   "cell_type": "code",
   "execution_count": 18,
   "metadata": {
    "collapsed": false
   },
   "outputs": [
    {
     "name": "stdout",
     "output_type": "stream",
     "text": [
      "\u001b[37m\u001b[42m # of Places: 31193 \u001b[39m\u001b[49m\n",
      "\u001b[37m\u001b[42m Done! \u001b[39m\u001b[49m\n"
     ]
    }
   ],
   "source": [
    "def loadTopPopularityPlaces(dataInstagram, top=100):\n",
    "    dataPlaces = dict()\n",
    "    for n in dataInstagram:\n",
    "        sample = dataInstagram[n]\n",
    "        try:\n",
    "            dataPlaces[sample[1]] += 1\n",
    "        except KeyError:\n",
    "            dataPlaces[sample[1]] = 1\n",
    "    print GREEN, '# of Places:', len(dataPlaces), RESET\n",
    "    print GREEN, 'Done!', RESET\n",
    "    return dataPlaces\n",
    "dataTopPlaces = loadTopPopularityPlaces(dataInstagram)"
   ]
  },
  {
   "cell_type": "markdown",
   "metadata": {},
   "source": [
    "# Top Places"
   ]
  },
  {
   "cell_type": "code",
   "execution_count": 19,
   "metadata": {
    "collapsed": false,
    "scrolled": true
   },
   "outputs": [
    {
     "name": "stdout",
     "output_type": "stream",
     "text": [
      "1 paris-france 109757\n",
      "2 tour-eiffel 20252\n",
      "3 musee-du-louvre 16336\n",
      "4 cathedrale-notre-dame-de-paris 9127\n",
      "5 sacre-cur-paris 4971\n",
      "6 avenue-des-champs-elysees 4409\n",
      "7 montmartre 3797\n",
      "8 centre-pompidou 3488\n",
      "9 musee-dorsay 3328\n",
      "10 arc-de-triomphe 3324\n"
     ]
    }
   ],
   "source": [
    "topPlaces = sorted(dataTopPlaces.keys(), key=lambda k:dataTopPlaces[k], reverse=True)\n",
    "for i, p in enumerate(topPlaces[:10]):\n",
    "    print i + 1, p.split('/')[1], dataTopPlaces[p]"
   ]
  },
  {
   "cell_type": "code",
   "execution_count": 22,
   "metadata": {
    "collapsed": false,
    "scrolled": false
   },
   "outputs": [
    {
     "name": "stdout",
     "output_type": "stream",
     "text": [
      "\u001b[37m\u001b[44m Weather Tipping Point 11.4095063985 \u001b[39m\u001b[49m\n",
      "\u001b[37m\u001b[42m Tipping Point Set of Places:\n",
      "BEFORE 19141 places\n",
      "AFTER 23403 places\n",
      "Intersection 11351 places\n",
      "Intersec. Samples: 91 % \u001b[39m\u001b[49m\n"
     ]
    },
    {
     "data": {
      "image/png": "[encoded data removed]",
      "text/plain": [
       "<matplotlib.figure.Figure at 0x1138db550>"
      ]
     },
     "metadata": {},
     "output_type": "display_data"
    }
   ],
   "source": [
    "def plotWeatherTippingPoint(dataWeather, weatherDetails, dataSpatiotemporal, topPlaces):\n",
    "    \"\"\"\n",
    "        ...\n",
    "    \"\"\"\n",
    "    PHASES = ['BEFORE', 'AFTER']\n",
    "    tp = weatherDetails['mean']\n",
    "    print BLUE, 'Weather Tipping Point', tp, RESET\n",
    "    topPlaces = set(topPlaces)\n",
    "    dataPhases = dict()\n",
    "    dataTipping = dict()\n",
    "    for k in PHASES:\n",
    "        dataPhases[k] = dict()\n",
    "        dataTipping[k] = set()\n",
    "    \n",
    "    for dateKey in dataSpatiotemporal:\n",
    "        temp = dataWeather[dateKey][1]\n",
    "        k = PHASES[0] if temp <= tp else PHASES[1]\n",
    "        dataTipping[k].update(topPlaces.intersection(dataSpatiotemporal[dateKey].keys()))\n",
    "    \n",
    "    intersection = dataTipping[PHASES[0]].intersection(dataTipping[PHASES[1]])\n",
    "    totalSamples = sum([sum(dataSpatiotemporal[d].values()) for d in dataSpatiotemporal])\n",
    "    intersectSamples = 0\n",
    "    for dateKey in dataSpatiotemporal:\n",
    "        for p in intersection:\n",
    "            try:\n",
    "                intersectSamples += dataSpatiotemporal[dateKey][p]\n",
    "            except KeyError:\n",
    "                continue\n",
    "                \n",
    "    print GREEN, 'Tipping Point Set of Places:'\n",
    "    print PHASES[0], len(dataTipping[PHASES[0]]), 'places'\n",
    "    print PHASES[1], len(dataTipping[PHASES[1]]), 'places'\n",
    "    print 'Intersection', len(intersection), 'places'\n",
    "    perc = int((intersectSamples/float(totalSamples)) * 100)\n",
    "    print 'Intersec. Samples:', perc, '%', RESET\n",
    "    dataTipping[PHASES[0]].difference_update(intersection)\n",
    "    dataTipping[PHASES[1]].difference_update(intersection)\n",
    "    \n",
    "    scale = 3\n",
    "    tempCounter = dict()\n",
    "    for dateKey in dataSpatiotemporal:\n",
    "        temp = dataWeather[dateKey][1]\n",
    "        temp = int(math.ceil(temp/scale)*scale)\n",
    "        for k in PHASES:\n",
    "            n = 0\n",
    "            for p in dataTipping[k]:\n",
    "                try:\n",
    "                    n += dataSpatiotemporal[dateKey][p]\n",
    "                except KeyError:\n",
    "                    continue\n",
    "            try:\n",
    "                dataPhases[k][temp] += n # we can divide by # of instances of temp\n",
    "                tempCounter[temp] += 1\n",
    "            except KeyError:\n",
    "                dataPhases[k][temp] = n\n",
    "                tempCounter[temp] = 1\n",
    "        \n",
    "    ticks = sorted(dataPhases[PHASES[0]])\n",
    "    data = [dataPhases[PHASES[0]][t]/tempCounter[t] for t in ticks] # normalizing\n",
    "    data = normalizeMax(data, max(data))\n",
    "    plt.plot(ticks, data, color='blue')\n",
    "    data = [dataPhases[PHASES[1]][t]/tempCounter[t] for t in ticks]\n",
    "    data = normalizeMax(data, max(data))\n",
    "    plt.plot(ticks, data, color='red')\n",
    "    plt.xticks(ticks)\n",
    "    plt.show()\n",
    "        \n",
    "    return\n",
    "plotWeatherTippingPoint(dataWeather, weatherDetails, dataSpatiotemporal, topPlaces)"
   ]
  },
  {
   "cell_type": "code",
   "execution_count": 21,
   "metadata": {
    "collapsed": true
   },
   "outputs": [],
   "source": [
    "def normalizeMax(dataList, maxValue):\n",
    "    values = []\n",
    "    maxValue = float(maxValue)\n",
    "    for x in dataList:\n",
    "        try:\n",
    "            v = x/maxValue\n",
    "        except ZeroDivisionError:\n",
    "            v = 0\n",
    "        values.append(v)\n",
    "    return values"
   ]
  },
  {
   "cell_type": "markdown",
   "metadata": {},
   "source": [
    "<img src=\"ilustrations/noidea.gif\" alt=\"Instagram\" style=\"width: 300px;\"/>\n",
    "# Area of Tests\n",
    "\n",
    "Don't take this codes so setious, seriously!"
   ]
  },
  {
   "cell_type": "code",
   "execution_count": 25,
   "metadata": {
    "collapsed": true
   },
   "outputs": [],
   "source": [
    "from sklearn.decomposition import PCA\n",
    "from sklearn.preprocessing import scale\n",
    "from sklearn.cluster import KMeans\n",
    "from sklearn.metrics import silhouette_score"
   ]
  },
  {
   "cell_type": "code",
   "execution_count": 26,
   "metadata": {
    "collapsed": false
   },
   "outputs": [
    {
     "name": "stdout",
     "output_type": "stream",
     "text": [
      "Temperature Spectrum [0, 5, 10, 15, 20, 25, 30]\n",
      "[ 0.28596376  0.17089123  0.15113294  0.12371169  0.09768942  0.09288799\n",
      "  0.07772297]\n",
      "[ 0.28596376  0.45685499  0.60798793  0.73169962  0.82938904  0.92227703\n",
      "  1.        ]\n"
     ]
    },
    {
     "data": {
      "image/png": "[encoded data removed]",
      "text/plain": [
       "<matplotlib.figure.Figure at 0x12d144a50>"
      ]
     },
     "metadata": {},
     "output_type": "display_data"
    },
    {
     "data": {
      "image/png": "[encoded data removed]",
      "text/plain": [
       "<matplotlib.figure.Figure at 0x12d93e390>"
      ]
     },
     "metadata": {},
     "output_type": "display_data"
    }
   ],
   "source": [
    "def loadPCA(dataSpatiotemporal, dataWeather, topPlaces, roundFactor=5):\n",
    "    tempSpectrum = set()\n",
    "    dataPCA = dict()\n",
    "    for dateKey in dataSpatiotemporal:\n",
    "        temp = dataWeather[dateKey][1]\n",
    "        temp = int(math.ceil(temp/roundFactor)*roundFactor)\n",
    "        tempSpectrum.add(temp)\n",
    "        for p in dataSpatiotemporal[dateKey]:\n",
    "            try:\n",
    "                dataPCA[p][temp] += dataSpatiotemporal[dateKey][p]\n",
    "            except:\n",
    "                if p not in dataPCA:\n",
    "                    dataPCA[p] = dict()\n",
    "                dataPCA[p][temp] = dataSpatiotemporal[dateKey][p]\n",
    "\n",
    "    tempSpectrum = sorted(tempSpectrum)\n",
    "    print 'Temperature Spectrum', tempSpectrum\n",
    "    for p in dataPCA:\n",
    "        s = list()\n",
    "        for t in tempSpectrum:\n",
    "            try:\n",
    "                s.append(dataPCA[p][t])\n",
    "            except KeyError:\n",
    "                s.append(0)\n",
    "        dataPCA[p] = normalizeMax(s, max(s))\n",
    "        \n",
    "    pcadata = [dataPCA[p] for p in topPlaces[:4000]]\n",
    "    x = scale(pcadata)\n",
    "    pca = PCA(n_components=len(tempSpectrum))\n",
    "    pca.fit(x)\n",
    "    var = pca.explained_variance_ratio_\n",
    "    c = numpy.cumsum(pca.explained_variance_ratio_)\n",
    "    plt.figure()\n",
    "    plt.bar(range(len(c)), c, linewidth=1)\n",
    "    print pca.explained_variance_ratio_\n",
    "    print c\n",
    "    xt = pca.transform(x)\n",
    "    plt.figure()\n",
    "    plt.scatter(xt[:,0], xt[:,1], s=60, alpha=0.1)\n",
    "    return pcadata\n",
    "\n",
    "dataPCA = loadPCA(dataSpatiotemporal, dataWeather, topPlaces)"
   ]
  },
  {
   "cell_type": "code",
   "execution_count": 27,
   "metadata": {
    "collapsed": false,
    "scrolled": false
   },
   "outputs": [
    {
     "name": "stdout",
     "output_type": "stream",
     "text": [
      "Temperature Spectrum [0, 5, 10, 15, 20, 25, 30]\n",
      "Place Spectrum 31193\n",
      "\u001b[37m\u001b[42m Variance Explained:\n",
      "[  3.27237692e-01   2.13642452e-01   1.53619261e-01   1.39678810e-01\n",
      "   8.87004065e-02   7.71213791e-02   6.15951842e-33]\n",
      "[ 0.32723769  0.54088014  0.6944994   0.83417821  0.92287862  1.          1.        ] \u001b[39m\u001b[49m\n"
     ]
    },
    {
     "data": {
      "image/png": "[encoded data removed]",
      "text/plain": [
       "<matplotlib.figure.Figure at 0x12d3eda90>"
      ]
     },
     "metadata": {},
     "output_type": "display_data"
    },
    {
     "data": {
      "image/png": "[encoded data removed]",
      "text/plain": [
       "<matplotlib.figure.Figure at 0x12d250bd0>"
      ]
     },
     "metadata": {},
     "output_type": "display_data"
    }
   ],
   "source": [
    "def loadPCA(dataSpatiotemporal, dataWeather, topPlaces, roundFactor=5):\n",
    "    dataPCA = dict()\n",
    "    tempSpectrum = set()\n",
    "    placesSpectrum = set()    \n",
    "    \n",
    "    for dateKey in dataSpatiotemporal:\n",
    "        temp = dataWeather[dateKey][1]\n",
    "        temp = int(math.ceil(temp/roundFactor)*roundFactor)\n",
    "        tempSpectrum.add(temp)\n",
    "        placesSpectrum.update(dataSpatiotemporal[dateKey].keys())\n",
    "        for p in dataSpatiotemporal[dateKey]:\n",
    "            try:\n",
    "                dataPCA[temp][p] += dataSpatiotemporal[dateKey][p]\n",
    "            except:\n",
    "                if temp not in dataPCA:\n",
    "                    dataPCA[temp] = dict()\n",
    "                dataPCA[temp][p] = dataSpatiotemporal[dateKey][p]\n",
    "\n",
    "    tempSpectrum = sorted(tempSpectrum)\n",
    "    placesSpectrum = sorted(placesSpectrum)\n",
    "    print 'Temperature Spectrum', tempSpectrum\n",
    "    print 'Place Spectrum', len(placesSpectrum)\n",
    "    for t in dataPCA:\n",
    "        s = list()\n",
    "        for p in topPlaces[:4000]: #placesSpectrum:\n",
    "            try:\n",
    "                s.append(dataPCA[t][p])\n",
    "            except KeyError:\n",
    "                s.append(0)\n",
    "        dataPCA[t] = normalizeMax(s, max(s))\n",
    "        \n",
    "    pcadata = [dataPCA[t] for t in sorted(dataPCA)]\n",
    "    x = scale(pcadata)\n",
    "    pca = PCA(n_components=len(tempSpectrum))\n",
    "    pca.fit(x)\n",
    "    var = pca.explained_variance_ratio_\n",
    "    c = numpy.cumsum(pca.explained_variance_ratio_)\n",
    "    print GREEN, 'Variance Explained:'\n",
    "    print pca.explained_variance_ratio_\n",
    "    print c, RESET\n",
    "    plt.figure()\n",
    "    plt.bar(range(len(c)), c, linewidth=1)\n",
    "    xt = pca.transform(x)\n",
    "    plt.figure()\n",
    "    plt.scatter(xt[:,0], xt[:,1], s=60, alpha=0.7)\n",
    "    for x, y, t in zip(xt[:,0], xt[:,1], sorted(dataPCA)):\n",
    "        plt.annotate(t, xy=(x, y), xytext=(x, y))\n",
    "    return pcadata\n",
    "\n",
    "dataPCA = loadPCA(dataSpatiotemporal, dataWeather, topPlaces)"
   ]
  },
  {
   "cell_type": "code",
   "execution_count": null,
   "metadata": {
    "collapsed": true
   },
   "outputs": [],
   "source": [
    "dataWeather = loadWeatherData(weatherFiles[0])\n",
    "\n",
    "\n",
    "\n",
    "\n",
    "\n",
    "\n",
    "\n",
    "\n",
    "\n",
    "\n",
    "\n",
    "\n",
    "\n",
    "\n",
    "\n",
    "\n",
    "\n",
    "\n",
    "\n",
    "\n",
    "\n",
    "\n",
    "\n",
    "\n",
    "\n",
    "\n",
    "\n",
    "\n",
    "\n",
    "\n",
    "\n",
    "\n",
    "\n",
    "\n",
    "\n"
   ]
  }
 ],
 "metadata": {
  "anaconda-cloud": {},
  "kernelspec": {
   "display_name": "Python [default]",
   "language": "python",
   "name": "python2"
  },
  "language_info": {
   "codemirror_mode": {
    "name": "ipython",
    "version": 2
   },
   "file_extension": ".py",
   "mimetype": "text/x-python",
   "name": "python",
   "nbconvert_exporter": "python",
   "pygments_lexer": "ipython2",
   "version": "2.7.13"
  }
 },
 "nbformat": 4,
 "nbformat_minor": 2
}
